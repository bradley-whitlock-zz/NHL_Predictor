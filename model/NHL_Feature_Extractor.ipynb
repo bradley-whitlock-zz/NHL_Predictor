{
 "cells": [
  {
   "cell_type": "markdown",
   "metadata": {},
   "source": [
    "# NHL Game Predictor\n",
    "* How it works:\n",
    "    * This will create the model based on the season of data\n",
    "    * This will not make the estimates for a games in a season"
   ]
  },
  {
   "cell_type": "code",
   "execution_count": 119,
   "metadata": {},
   "outputs": [],
   "source": [
    "import pandas as pd\n",
    "import numpy as np\n",
    "import csv\n",
    "import os\n",
    "from pathlib import Path\n",
    "import glob\n",
    "from datetime import datetime\n",
    "\n",
    "from sklearn.ensemble import RandomForestClassifier\n",
    "from sklearn.model_selection import cross_validate\n",
    "from sklearn import tree"
   ]
  },
  {
   "cell_type": "markdown",
   "metadata": {},
   "source": [
    "### Load files from data/games/*.csv directory\n",
    "* The game_data is retrieved first for all the game data of the season\n",
    "* Using game_data, the feature_data is populated which contains more scraped data from nhl.com"
   ]
  },
  {
   "cell_type": "markdown",
   "metadata": {},
   "source": [
    "## Load the feature data"
   ]
  },
  {
   "cell_type": "code",
   "execution_count": 94,
   "metadata": {},
   "outputs": [
    {
     "data": {
      "text/plain": [
       "['/Users/bwhitlock/repos/NHL_Predictor/data/games/feature_data_2018_prod.csv']"
      ]
     },
     "execution_count": 94,
     "metadata": {},
     "output_type": "execute_result"
    }
   ],
   "source": [
    "predictor_path = os.getcwd()\n",
    "data_path = predictor_path.replace(\"model\", \"data/games/\")\n",
    "data_files = glob.glob(os.path.join(data_path,\"feat*_prod.csv\"))\n",
    "data_files"
   ]
  },
  {
   "cell_type": "code",
   "execution_count": 95,
   "metadata": {},
   "outputs": [
    {
     "name": "stdout",
     "output_type": "stream",
     "text": [
      "Data for 1271 games.\n"
     ]
    },
    {
     "data": {
      "text/html": [
       "<div>\n",
       "<style scoped>\n",
       "    .dataframe tbody tr th:only-of-type {\n",
       "        vertical-align: middle;\n",
       "    }\n",
       "\n",
       "    .dataframe tbody tr th {\n",
       "        vertical-align: top;\n",
       "    }\n",
       "\n",
       "    .dataframe thead th {\n",
       "        text-align: right;\n",
       "    }\n",
       "</style>\n",
       "<table border=\"1\" class=\"dataframe\">\n",
       "  <thead>\n",
       "    <tr style=\"text-align: right;\">\n",
       "      <th></th>\n",
       "      <th>game_id</th>\n",
       "      <th>visitor_team</th>\n",
       "      <th>visitor_gp</th>\n",
       "      <th>visitor_w</th>\n",
       "      <th>visitor_l</th>\n",
       "      <th>visitor_t</th>\n",
       "      <th>visitor_ot</th>\n",
       "      <th>visitor_p</th>\n",
       "      <th>visitor_gf</th>\n",
       "      <th>visitor_ga</th>\n",
       "      <th>...</th>\n",
       "      <th>home_ts</th>\n",
       "      <th>home_ppga</th>\n",
       "      <th>home_pk%</th>\n",
       "      <th>home_fow</th>\n",
       "      <th>home_fol</th>\n",
       "      <th>home_fow%</th>\n",
       "      <th>home_goals</th>\n",
       "      <th>visitor_goals</th>\n",
       "      <th>extra_time</th>\n",
       "      <th>game_date</th>\n",
       "    </tr>\n",
       "  </thead>\n",
       "  <tbody>\n",
       "    <tr>\n",
       "      <th>0</th>\n",
       "      <td>0</td>\n",
       "      <td>Calgary Flames</td>\n",
       "      <td>0</td>\n",
       "      <td>0</td>\n",
       "      <td>0</td>\n",
       "      <td>0</td>\n",
       "      <td>0</td>\n",
       "      <td>0</td>\n",
       "      <td>0</td>\n",
       "      <td>0</td>\n",
       "      <td>...</td>\n",
       "      <td>0</td>\n",
       "      <td>0</td>\n",
       "      <td>0.0</td>\n",
       "      <td>0</td>\n",
       "      <td>0</td>\n",
       "      <td>0.0</td>\n",
       "      <td>0</td>\n",
       "      <td>3</td>\n",
       "      <td>NaN</td>\n",
       "      <td>2017-10-04</td>\n",
       "    </tr>\n",
       "    <tr>\n",
       "      <th>1</th>\n",
       "      <td>1</td>\n",
       "      <td>St. Louis Blues</td>\n",
       "      <td>0</td>\n",
       "      <td>0</td>\n",
       "      <td>0</td>\n",
       "      <td>0</td>\n",
       "      <td>0</td>\n",
       "      <td>0</td>\n",
       "      <td>0</td>\n",
       "      <td>0</td>\n",
       "      <td>...</td>\n",
       "      <td>0</td>\n",
       "      <td>0</td>\n",
       "      <td>0.0</td>\n",
       "      <td>0</td>\n",
       "      <td>0</td>\n",
       "      <td>0.0</td>\n",
       "      <td>5</td>\n",
       "      <td>4</td>\n",
       "      <td>OT</td>\n",
       "      <td>2017-10-04</td>\n",
       "    </tr>\n",
       "    <tr>\n",
       "      <th>2</th>\n",
       "      <td>2</td>\n",
       "      <td>Philadelphia Flyers</td>\n",
       "      <td>0</td>\n",
       "      <td>0</td>\n",
       "      <td>0</td>\n",
       "      <td>0</td>\n",
       "      <td>0</td>\n",
       "      <td>0</td>\n",
       "      <td>0</td>\n",
       "      <td>0</td>\n",
       "      <td>...</td>\n",
       "      <td>0</td>\n",
       "      <td>0</td>\n",
       "      <td>0.0</td>\n",
       "      <td>0</td>\n",
       "      <td>0</td>\n",
       "      <td>0.0</td>\n",
       "      <td>5</td>\n",
       "      <td>3</td>\n",
       "      <td>NaN</td>\n",
       "      <td>2017-10-04</td>\n",
       "    </tr>\n",
       "    <tr>\n",
       "      <th>3</th>\n",
       "      <td>3</td>\n",
       "      <td>Toronto Maple Leafs</td>\n",
       "      <td>0</td>\n",
       "      <td>0</td>\n",
       "      <td>0</td>\n",
       "      <td>0</td>\n",
       "      <td>0</td>\n",
       "      <td>0</td>\n",
       "      <td>0</td>\n",
       "      <td>0</td>\n",
       "      <td>...</td>\n",
       "      <td>0</td>\n",
       "      <td>0</td>\n",
       "      <td>0.0</td>\n",
       "      <td>0</td>\n",
       "      <td>0</td>\n",
       "      <td>0.0</td>\n",
       "      <td>7</td>\n",
       "      <td>2</td>\n",
       "      <td>NaN</td>\n",
       "      <td>2017-10-04</td>\n",
       "    </tr>\n",
       "    <tr>\n",
       "      <th>4</th>\n",
       "      <td>4</td>\n",
       "      <td>Arizona Coyotes</td>\n",
       "      <td>0</td>\n",
       "      <td>0</td>\n",
       "      <td>0</td>\n",
       "      <td>0</td>\n",
       "      <td>0</td>\n",
       "      <td>0</td>\n",
       "      <td>0</td>\n",
       "      <td>0</td>\n",
       "      <td>...</td>\n",
       "      <td>0</td>\n",
       "      <td>0</td>\n",
       "      <td>0.0</td>\n",
       "      <td>0</td>\n",
       "      <td>0</td>\n",
       "      <td>0.0</td>\n",
       "      <td>4</td>\n",
       "      <td>5</td>\n",
       "      <td>NaN</td>\n",
       "      <td>2017-10-05</td>\n",
       "    </tr>\n",
       "  </tbody>\n",
       "</table>\n",
       "<p>5 rows × 49 columns</p>\n",
       "</div>"
      ],
      "text/plain": [
       "   game_id         visitor_team  visitor_gp  visitor_w  visitor_l  visitor_t  \\\n",
       "0        0       Calgary Flames           0          0          0          0   \n",
       "1        1      St. Louis Blues           0          0          0          0   \n",
       "2        2  Philadelphia Flyers           0          0          0          0   \n",
       "3        3  Toronto Maple Leafs           0          0          0          0   \n",
       "4        4      Arizona Coyotes           0          0          0          0   \n",
       "\n",
       "   visitor_ot  visitor_p  visitor_gf  visitor_ga     ...      home_ts  \\\n",
       "0           0          0           0           0     ...            0   \n",
       "1           0          0           0           0     ...            0   \n",
       "2           0          0           0           0     ...            0   \n",
       "3           0          0           0           0     ...            0   \n",
       "4           0          0           0           0     ...            0   \n",
       "\n",
       "   home_ppga  home_pk%  home_fow  home_fol  home_fow%  home_goals  \\\n",
       "0          0       0.0         0         0        0.0           0   \n",
       "1          0       0.0         0         0        0.0           5   \n",
       "2          0       0.0         0         0        0.0           5   \n",
       "3          0       0.0         0         0        0.0           7   \n",
       "4          0       0.0         0         0        0.0           4   \n",
       "\n",
       "   visitor_goals  extra_time   game_date  \n",
       "0              3         NaN  2017-10-04  \n",
       "1              4          OT  2017-10-04  \n",
       "2              3         NaN  2017-10-04  \n",
       "3              2         NaN  2017-10-04  \n",
       "4              5         NaN  2017-10-05  \n",
       "\n",
       "[5 rows x 49 columns]"
      ]
     },
     "execution_count": 95,
     "metadata": {},
     "output_type": "execute_result"
    }
   ],
   "source": [
    "seasons = []\n",
    "for season_file in data_files:\n",
    "    data = pd.read_csv(season_file, header=0)\n",
    "    seasons.append(data)\n",
    "df = pd.concat(seasons)\n",
    "\n",
    "print (\"Data for {} games.\".format(df.shape[0]))\n",
    "df.head()"
   ]
  },
  {
   "cell_type": "markdown",
   "metadata": {},
   "source": [
    "# Load the points data"
   ]
  },
  {
   "cell_type": "code",
   "execution_count": 96,
   "metadata": {},
   "outputs": [
    {
     "name": "stdout",
     "output_type": "stream",
     "text": [
      "['/Users/bwhitlock/repos/NHL_Predictor/data/points/2018.csv', '/Users/bwhitlock/repos/NHL_Predictor/data/points/2016.csv', '/Users/bwhitlock/repos/NHL_Predictor/data/points/2017.csv']\n",
      "Data for 30 games.\n"
     ]
    },
    {
     "data": {
      "text/html": [
       "<div>\n",
       "<style scoped>\n",
       "    .dataframe tbody tr th:only-of-type {\n",
       "        vertical-align: middle;\n",
       "    }\n",
       "\n",
       "    .dataframe tbody tr th {\n",
       "        vertical-align: top;\n",
       "    }\n",
       "\n",
       "    .dataframe thead th {\n",
       "        text-align: right;\n",
       "    }\n",
       "</style>\n",
       "<table border=\"1\" class=\"dataframe\">\n",
       "  <thead>\n",
       "    <tr style=\"text-align: right;\">\n",
       "      <th></th>\n",
       "      <th>team_name</th>\n",
       "      <th>points</th>\n",
       "    </tr>\n",
       "  </thead>\n",
       "  <tbody>\n",
       "    <tr>\n",
       "      <th>0</th>\n",
       "      <td>Washington Capitals</td>\n",
       "      <td>118</td>\n",
       "    </tr>\n",
       "    <tr>\n",
       "      <th>1</th>\n",
       "      <td>Pittsburgh Penguins</td>\n",
       "      <td>111</td>\n",
       "    </tr>\n",
       "    <tr>\n",
       "      <th>2</th>\n",
       "      <td>Chicago Blackhawks</td>\n",
       "      <td>109</td>\n",
       "    </tr>\n",
       "    <tr>\n",
       "      <th>3</th>\n",
       "      <td>Columbus Blue Jackets</td>\n",
       "      <td>108</td>\n",
       "    </tr>\n",
       "    <tr>\n",
       "      <th>4</th>\n",
       "      <td>Minnesota Wild</td>\n",
       "      <td>106</td>\n",
       "    </tr>\n",
       "  </tbody>\n",
       "</table>\n",
       "</div>"
      ],
      "text/plain": [
       "               team_name  points\n",
       "0    Washington Capitals     118\n",
       "1    Pittsburgh Penguins     111\n",
       "2     Chicago Blackhawks     109\n",
       "3  Columbus Blue Jackets     108\n",
       "4         Minnesota Wild     106"
      ]
     },
     "execution_count": 96,
     "metadata": {},
     "output_type": "execute_result"
    }
   ],
   "source": [
    "season = 2017 # season being 2017 contains data for the 16-17 season\n",
    "predictor_path = os.getcwd()\n",
    "data_path = predictor_path.replace(\"model\", \"data/points/\")\n",
    "points_files = glob.glob(os.path.join(data_path,\"*.csv\"))\n",
    "\n",
    "print (points_files)\n",
    "points = []\n",
    "for file in points_files:\n",
    "    data = pd.read_csv(file, header=0)\n",
    "    points.append(data)\n",
    "points_df = pd.concat(points)\n",
    "\n",
    "points_df = points_df[points_df[\"year\"] == season]\n",
    "points_df = points_df.drop(columns=[\"year\"])\n",
    "\n",
    "print (\"Data for {} games.\".format(points_df.shape[0]))\n",
    "points_df.head()"
   ]
  },
  {
   "cell_type": "code",
   "execution_count": 97,
   "metadata": {},
   "outputs": [
    {
     "data": {
      "text/html": [
       "<div>\n",
       "<style scoped>\n",
       "    .dataframe tbody tr th:only-of-type {\n",
       "        vertical-align: middle;\n",
       "    }\n",
       "\n",
       "    .dataframe tbody tr th {\n",
       "        vertical-align: top;\n",
       "    }\n",
       "\n",
       "    .dataframe thead th {\n",
       "        text-align: right;\n",
       "    }\n",
       "</style>\n",
       "<table border=\"1\" class=\"dataframe\">\n",
       "  <thead>\n",
       "    <tr style=\"text-align: right;\">\n",
       "      <th></th>\n",
       "      <th>game_id</th>\n",
       "      <th>visitor_team</th>\n",
       "      <th>visitor_gp</th>\n",
       "      <th>visitor_w</th>\n",
       "      <th>visitor_l</th>\n",
       "      <th>visitor_t</th>\n",
       "      <th>visitor_ot</th>\n",
       "      <th>visitor_p</th>\n",
       "      <th>visitor_gf</th>\n",
       "      <th>visitor_ga</th>\n",
       "      <th>...</th>\n",
       "      <th>home_pk%</th>\n",
       "      <th>home_fow</th>\n",
       "      <th>home_fol</th>\n",
       "      <th>home_fow%</th>\n",
       "      <th>home_goals</th>\n",
       "      <th>visitor_goals</th>\n",
       "      <th>extra_time</th>\n",
       "      <th>game_date</th>\n",
       "      <th>home_points</th>\n",
       "      <th>visitor_points</th>\n",
       "    </tr>\n",
       "  </thead>\n",
       "  <tbody>\n",
       "    <tr>\n",
       "      <th>0</th>\n",
       "      <td>0</td>\n",
       "      <td>Calgary Flames</td>\n",
       "      <td>0</td>\n",
       "      <td>0</td>\n",
       "      <td>0</td>\n",
       "      <td>0</td>\n",
       "      <td>0</td>\n",
       "      <td>0</td>\n",
       "      <td>0</td>\n",
       "      <td>0</td>\n",
       "      <td>...</td>\n",
       "      <td>0.0</td>\n",
       "      <td>0</td>\n",
       "      <td>0</td>\n",
       "      <td>0.0</td>\n",
       "      <td>0</td>\n",
       "      <td>3</td>\n",
       "      <td>NaN</td>\n",
       "      <td>2017-10-04</td>\n",
       "      <td>103</td>\n",
       "      <td>94</td>\n",
       "    </tr>\n",
       "    <tr>\n",
       "      <th>1</th>\n",
       "      <td>748</td>\n",
       "      <td>Calgary Flames</td>\n",
       "      <td>48</td>\n",
       "      <td>25</td>\n",
       "      <td>16</td>\n",
       "      <td>0</td>\n",
       "      <td>7</td>\n",
       "      <td>57</td>\n",
       "      <td>132</td>\n",
       "      <td>127</td>\n",
       "      <td>...</td>\n",
       "      <td>71.4</td>\n",
       "      <td>1440</td>\n",
       "      <td>1501</td>\n",
       "      <td>49.0</td>\n",
       "      <td>3</td>\n",
       "      <td>4</td>\n",
       "      <td>SO</td>\n",
       "      <td>2018-01-25</td>\n",
       "      <td>103</td>\n",
       "      <td>94</td>\n",
       "    </tr>\n",
       "    <tr>\n",
       "      <th>2</th>\n",
       "      <td>1016</td>\n",
       "      <td>Calgary Flames</td>\n",
       "      <td>66</td>\n",
       "      <td>32</td>\n",
       "      <td>25</td>\n",
       "      <td>0</td>\n",
       "      <td>9</td>\n",
       "      <td>73</td>\n",
       "      <td>183</td>\n",
       "      <td>190</td>\n",
       "      <td>...</td>\n",
       "      <td>81.6</td>\n",
       "      <td>2065</td>\n",
       "      <td>2052</td>\n",
       "      <td>50.1</td>\n",
       "      <td>3</td>\n",
       "      <td>4</td>\n",
       "      <td>OT</td>\n",
       "      <td>2018-03-05</td>\n",
       "      <td>111</td>\n",
       "      <td>94</td>\n",
       "    </tr>\n",
       "    <tr>\n",
       "      <th>3</th>\n",
       "      <td>571</td>\n",
       "      <td>Calgary Flames</td>\n",
       "      <td>36</td>\n",
       "      <td>18</td>\n",
       "      <td>15</td>\n",
       "      <td>0</td>\n",
       "      <td>3</td>\n",
       "      <td>39</td>\n",
       "      <td>99</td>\n",
       "      <td>104</td>\n",
       "      <td>...</td>\n",
       "      <td>86.5</td>\n",
       "      <td>1041</td>\n",
       "      <td>988</td>\n",
       "      <td>51.3</td>\n",
       "      <td>2</td>\n",
       "      <td>3</td>\n",
       "      <td>SO</td>\n",
       "      <td>2017-12-28</td>\n",
       "      <td>99</td>\n",
       "      <td>94</td>\n",
       "    </tr>\n",
       "    <tr>\n",
       "      <th>4</th>\n",
       "      <td>1159</td>\n",
       "      <td>Calgary Flames</td>\n",
       "      <td>75</td>\n",
       "      <td>35</td>\n",
       "      <td>30</td>\n",
       "      <td>0</td>\n",
       "      <td>10</td>\n",
       "      <td>80</td>\n",
       "      <td>202</td>\n",
       "      <td>221</td>\n",
       "      <td>...</td>\n",
       "      <td>84.4</td>\n",
       "      <td>2302</td>\n",
       "      <td>2201</td>\n",
       "      <td>51.1</td>\n",
       "      <td>1</td>\n",
       "      <td>5</td>\n",
       "      <td>NaN</td>\n",
       "      <td>2018-03-24</td>\n",
       "      <td>99</td>\n",
       "      <td>94</td>\n",
       "    </tr>\n",
       "  </tbody>\n",
       "</table>\n",
       "<p>5 rows × 51 columns</p>\n",
       "</div>"
      ],
      "text/plain": [
       "   game_id    visitor_team  visitor_gp  visitor_w  visitor_l  visitor_t  \\\n",
       "0        0  Calgary Flames           0          0          0          0   \n",
       "1      748  Calgary Flames          48         25         16          0   \n",
       "2     1016  Calgary Flames          66         32         25          0   \n",
       "3      571  Calgary Flames          36         18         15          0   \n",
       "4     1159  Calgary Flames          75         35         30          0   \n",
       "\n",
       "   visitor_ot  visitor_p  visitor_gf  visitor_ga       ...        home_pk%  \\\n",
       "0           0          0           0           0       ...             0.0   \n",
       "1           7         57         132         127       ...            71.4   \n",
       "2           9         73         183         190       ...            81.6   \n",
       "3           3         39          99         104       ...            86.5   \n",
       "4          10         80         202         221       ...            84.4   \n",
       "\n",
       "   home_fow  home_fol  home_fow%  home_goals  visitor_goals  extra_time  \\\n",
       "0         0         0        0.0           0              3         NaN   \n",
       "1      1440      1501       49.0           3              4          SO   \n",
       "2      2065      2052       50.1           3              4          OT   \n",
       "3      1041       988       51.3           2              3          SO   \n",
       "4      2302      2201       51.1           1              5         NaN   \n",
       "\n",
       "    game_date  home_points  visitor_points  \n",
       "0  2017-10-04          103              94  \n",
       "1  2018-01-25          103              94  \n",
       "2  2018-03-05          111              94  \n",
       "3  2017-12-28           99              94  \n",
       "4  2018-03-24           99              94  \n",
       "\n",
       "[5 rows x 51 columns]"
      ]
     },
     "execution_count": 97,
     "metadata": {},
     "output_type": "execute_result"
    }
   ],
   "source": [
    "# home_points\n",
    "df = pd.merge(df, points_df, left_on = 'home_team', right_on = 'team_name')\n",
    "df = df.drop(columns=[\"team_name\"])\n",
    "df = df.rename(columns={\"points\": \"home_points\"})\n",
    "\n",
    "# visitor_points\n",
    "df = pd.merge(df, points_df, left_on = 'visitor_team', right_on = 'team_name')\n",
    "df = df.drop(columns=[\"team_name\"])\n",
    "df = df.rename(columns={\"points\": \"visitor_points\"})\n",
    "df.head()"
   ]
  },
  {
   "cell_type": "markdown",
   "metadata": {},
   "source": [
    "# List of possible features scraped from NHL.com"
   ]
  },
  {
   "cell_type": "code",
   "execution_count": 98,
   "metadata": {},
   "outputs": [
    {
     "data": {
      "text/plain": [
       "Index(['game_id', 'visitor_team', 'visitor_gp', 'visitor_w', 'visitor_l',\n",
       "       'visitor_t', 'visitor_ot', 'visitor_p', 'visitor_gf', 'visitor_ga',\n",
       "       'visitor_s/o win', 'visitor_s/o loss', 'visitor_sf', 'visitor_sa',\n",
       "       'visitor_ppg', 'visitor_pp opp', 'visitor_pp%', 'visitor_ts',\n",
       "       'visitor_ppga', 'visitor_pk%', 'visitor_fow', 'visitor_fol',\n",
       "       'visitor_fow%', 'home_team', 'home_gp', 'home_w', 'home_l', 'home_t',\n",
       "       'home_ot', 'home_p', 'home_gf', 'home_ga', 'home_s/o win',\n",
       "       'home_s/o loss', 'home_sf', 'home_sa', 'home_ppg', 'home_pp opp',\n",
       "       'home_pp%', 'home_ts', 'home_ppga', 'home_pk%', 'home_fow', 'home_fol',\n",
       "       'home_fow%', 'home_goals', 'visitor_goals', 'extra_time', 'game_date',\n",
       "       'home_points', 'visitor_points'],\n",
       "      dtype='object')"
      ]
     },
     "execution_count": 98,
     "metadata": {},
     "output_type": "execute_result"
    }
   ],
   "source": [
    "df.columns"
   ]
  },
  {
   "cell_type": "markdown",
   "metadata": {},
   "source": [
    "# Define the Target Variable"
   ]
  },
  {
   "cell_type": "code",
   "execution_count": 99,
   "metadata": {},
   "outputs": [
    {
     "data": {
      "text/html": [
       "<div>\n",
       "<style scoped>\n",
       "    .dataframe tbody tr th:only-of-type {\n",
       "        vertical-align: middle;\n",
       "    }\n",
       "\n",
       "    .dataframe tbody tr th {\n",
       "        vertical-align: top;\n",
       "    }\n",
       "\n",
       "    .dataframe thead th {\n",
       "        text-align: right;\n",
       "    }\n",
       "</style>\n",
       "<table border=\"1\" class=\"dataframe\">\n",
       "  <thead>\n",
       "    <tr style=\"text-align: right;\">\n",
       "      <th></th>\n",
       "      <th>home_goals</th>\n",
       "      <th>visitor_goals</th>\n",
       "      <th>h_wins</th>\n",
       "    </tr>\n",
       "  </thead>\n",
       "  <tbody>\n",
       "    <tr>\n",
       "      <th>0</th>\n",
       "      <td>0</td>\n",
       "      <td>3</td>\n",
       "      <td>False</td>\n",
       "    </tr>\n",
       "    <tr>\n",
       "      <th>1</th>\n",
       "      <td>3</td>\n",
       "      <td>4</td>\n",
       "      <td>False</td>\n",
       "    </tr>\n",
       "    <tr>\n",
       "      <th>2</th>\n",
       "      <td>3</td>\n",
       "      <td>4</td>\n",
       "      <td>False</td>\n",
       "    </tr>\n",
       "    <tr>\n",
       "      <th>3</th>\n",
       "      <td>2</td>\n",
       "      <td>3</td>\n",
       "      <td>False</td>\n",
       "    </tr>\n",
       "    <tr>\n",
       "      <th>4</th>\n",
       "      <td>1</td>\n",
       "      <td>5</td>\n",
       "      <td>False</td>\n",
       "    </tr>\n",
       "  </tbody>\n",
       "</table>\n",
       "</div>"
      ],
      "text/plain": [
       "   home_goals  visitor_goals  h_wins\n",
       "0           0              3   False\n",
       "1           3              4   False\n",
       "2           3              4   False\n",
       "3           2              3   False\n",
       "4           1              5   False"
      ]
     },
     "execution_count": 99,
     "metadata": {},
     "output_type": "execute_result"
    }
   ],
   "source": [
    "df[\"h_wins\"] = df[\"home_goals\"] > df[\"visitor_goals\"]\n",
    "df[[\"home_goals\", \"visitor_goals\", \"h_wins\"]].head()"
   ]
  },
  {
   "cell_type": "markdown",
   "metadata": {},
   "source": [
    "## Map the extra_time string to boolean"
   ]
  },
  {
   "cell_type": "code",
   "execution_count": 100,
   "metadata": {},
   "outputs": [
    {
     "data": {
      "text/html": [
       "<div>\n",
       "<style scoped>\n",
       "    .dataframe tbody tr th:only-of-type {\n",
       "        vertical-align: middle;\n",
       "    }\n",
       "\n",
       "    .dataframe tbody tr th {\n",
       "        vertical-align: top;\n",
       "    }\n",
       "\n",
       "    .dataframe thead th {\n",
       "        text-align: right;\n",
       "    }\n",
       "</style>\n",
       "<table border=\"1\" class=\"dataframe\">\n",
       "  <thead>\n",
       "    <tr style=\"text-align: right;\">\n",
       "      <th></th>\n",
       "      <th>home_goals</th>\n",
       "      <th>visitor_goals</th>\n",
       "      <th>h_wins</th>\n",
       "      <th>extra_time</th>\n",
       "    </tr>\n",
       "  </thead>\n",
       "  <tbody>\n",
       "    <tr>\n",
       "      <th>0</th>\n",
       "      <td>0</td>\n",
       "      <td>3</td>\n",
       "      <td>False</td>\n",
       "      <td>False</td>\n",
       "    </tr>\n",
       "    <tr>\n",
       "      <th>1</th>\n",
       "      <td>3</td>\n",
       "      <td>4</td>\n",
       "      <td>False</td>\n",
       "      <td>True</td>\n",
       "    </tr>\n",
       "    <tr>\n",
       "      <th>2</th>\n",
       "      <td>3</td>\n",
       "      <td>4</td>\n",
       "      <td>False</td>\n",
       "      <td>True</td>\n",
       "    </tr>\n",
       "    <tr>\n",
       "      <th>3</th>\n",
       "      <td>2</td>\n",
       "      <td>3</td>\n",
       "      <td>False</td>\n",
       "      <td>True</td>\n",
       "    </tr>\n",
       "    <tr>\n",
       "      <th>4</th>\n",
       "      <td>1</td>\n",
       "      <td>5</td>\n",
       "      <td>False</td>\n",
       "      <td>False</td>\n",
       "    </tr>\n",
       "  </tbody>\n",
       "</table>\n",
       "</div>"
      ],
      "text/plain": [
       "   home_goals  visitor_goals  h_wins  extra_time\n",
       "0           0              3   False       False\n",
       "1           3              4   False        True\n",
       "2           3              4   False        True\n",
       "3           2              3   False        True\n",
       "4           1              5   False       False"
      ]
     },
     "execution_count": 100,
     "metadata": {},
     "output_type": "execute_result"
    }
   ],
   "source": [
    "df = df.replace({'extra_time': {'SO': True, 'OT': True, np.NaN:False}})\n",
    "df[[\"home_goals\", \"visitor_goals\", \"h_wins\", \"extra_time\"]].head()\n"
   ]
  },
  {
   "cell_type": "markdown",
   "metadata": {},
   "source": [
    "# Remove some of the not relevant columns"
   ]
  },
  {
   "cell_type": "code",
   "execution_count": 101,
   "metadata": {},
   "outputs": [],
   "source": [
    "suffix = [\"gp\", \"w\", \"l\", \"t\", \"ot\", \"s/o win\", \"s/o loss\", \"pp opp\", \"ppg\", \"ppga\", \"fow\", \"fol\"]\n",
    "for prefix in [\"visitor_\", \"home_\"]:\n",
    "    cols = [prefix+x for x in suffix]\n",
    "    df = df.drop(columns=cols)\n"
   ]
  },
  {
   "cell_type": "code",
   "execution_count": 102,
   "metadata": {},
   "outputs": [
    {
     "data": {
      "text/plain": [
       "Index(['game_id', 'visitor_team', 'visitor_p', 'visitor_gf', 'visitor_ga',\n",
       "       'visitor_sf', 'visitor_sa', 'visitor_pp%', 'visitor_ts', 'visitor_pk%',\n",
       "       'visitor_fow%', 'home_team', 'home_p', 'home_gf', 'home_ga', 'home_sf',\n",
       "       'home_sa', 'home_pp%', 'home_ts', 'home_pk%', 'home_fow%', 'home_goals',\n",
       "       'visitor_goals', 'extra_time', 'game_date', 'home_points',\n",
       "       'visitor_points', 'h_wins'],\n",
       "      dtype='object')"
      ]
     },
     "execution_count": 102,
     "metadata": {},
     "output_type": "execute_result"
    }
   ],
   "source": [
    "df.columns"
   ]
  },
  {
   "cell_type": "markdown",
   "metadata": {},
   "source": [
    "## Get the number of days since the last game for Visitor and Home team\n",
    "* This is a way of defining momentum"
   ]
  },
  {
   "cell_type": "code",
   "execution_count": 103,
   "metadata": {},
   "outputs": [
    {
     "data": {
      "text/plain": [
       "Index(['game_id', 'visitor_team', 'visitor_p', 'visitor_gf', 'visitor_ga',\n",
       "       'visitor_sf', 'visitor_sa', 'visitor_pp%', 'visitor_ts', 'visitor_pk%',\n",
       "       'visitor_fow%', 'home_team', 'home_p', 'home_gf', 'home_ga', 'home_sf',\n",
       "       'home_sa', 'home_pp%', 'home_ts', 'home_pk%', 'home_fow%', 'home_goals',\n",
       "       'visitor_goals', 'extra_time', 'game_date', 'home_points',\n",
       "       'visitor_points', 'h_wins'],\n",
       "      dtype='object')"
      ]
     },
     "execution_count": 103,
     "metadata": {},
     "output_type": "execute_result"
    }
   ],
   "source": [
    "df.columns"
   ]
  },
  {
   "cell_type": "code",
   "execution_count": 104,
   "metadata": {
    "scrolled": false
   },
   "outputs": [],
   "source": [
    "def get_num_days(df, game_date, team_name):\n",
    "    df = df[(df[\"game_date\"] < game_date) & ((df[\"home_team\"] == team_name) | \n",
    "                                             (df[\"visitor_team\"] == team_name))][\"game_date\"]\n",
    "    if df.empty:\n",
    "        return 25\n",
    "    else:\n",
    "        d1 = datetime.strptime(game_date, '%Y-%m-%d')\n",
    "        d0 = datetime.strptime(df.max(), '%Y-%m-%d')\n",
    "        delta = d1 - d0\n",
    "        return delta.days\n",
    "    \n",
    "for index, row in df.iterrows():\n",
    "    for team_name in [\"visitor\", \"home\"]:\n",
    "        df.loc[index, team_name+\"_days_rest\"] = get_num_days(df, row[\"game_date\"], row[team_name+\"_team\"])\n"
   ]
  },
  {
   "cell_type": "markdown",
   "metadata": {},
   "source": [
    "# Get the record of the teams last 5 games"
   ]
  },
  {
   "cell_type": "code",
   "execution_count": 105,
   "metadata": {},
   "outputs": [],
   "source": [
    "def get_recent_record(df, row, team_name):\n",
    "    is_home = team_name == \"home\"\n",
    "    team_name = team_name + \"_team\"\n",
    "    \n",
    "    df = df[(df[\"game_date\"] < row[\"game_date\"]) & ((df[\"home_team\"] == row[team_name]) | \n",
    "                                             (df[\"visitor_team\"] == row[team_name]))][[\"h_wins\", \"extra_time\"]]\n",
    "    if df.empty:\n",
    "        return 0\n",
    "    else:\n",
    "        df = df.iloc[-5:]\n",
    "        points = 0\n",
    "        for index, row in df.iterrows():\n",
    "            if is_home and row[\"h_wins\"]:\n",
    "                points += 2\n",
    "            elif is_home and not row[\"h_wins\"] and row[\"extra_time\"]:\n",
    "                points += 1\n",
    "            elif not is_home and not row[\"h_wins\"]:\n",
    "                points += 2\n",
    "            elif not is_home and row[\"h_wins\"] and row[\"extra_time\"]:\n",
    "                points += 1\n",
    "        \n",
    "        return points\n",
    "    \n",
    "for index, row in df.iterrows():\n",
    "    for team_name in [\"visitor\", \"home\"]:\n",
    "        df.loc[index, team_name+\"_last_5\"] = get_recent_record(df, row, team_name)\n"
   ]
  },
  {
   "cell_type": "markdown",
   "metadata": {},
   "source": [
    "## Features\n",
    "### Ratio is Home / Away\n",
    "| Feature | Description |\n",
    "| --- | --- |\n",
    "| gf_r | Goals Ratio |\n",
    "| ga_r | Goals Against Ratio |\n",
    "| pp_r | Power Play Ratio |\n",
    "| pk_r | Penalty Kill Ratio |\n",
    "| shot_per_r | Shooting Percent Ratio |\n",
    "| save_per_r | Save Percent Ratio |\n",
    "| streak_r | Points in Last 5 Ratio |\n",
    "| rest_r | Days Rest Ratio |\n",
    "| last_pts_r | Last Seasons Points Ratio |\n",
    "\n",
    "#### Future Considerations - Player considerations\n",
    "| Feature | Description |\n",
    "| --- | --- |\n",
    "| Injuries | Are there any players injured on each team? |\n",
    "| Star players | Does one team have star players, may be good for early season games | \n",
    "| Depth | Depth of team |\n",
    "| Randomness | Hockey is a game of luck how can we include this in some way |"
   ]
  },
  {
   "cell_type": "code",
   "execution_count": 106,
   "metadata": {},
   "outputs": [
    {
     "data": {
      "text/plain": [
       "Index(['game_id', 'visitor_team', 'visitor_p', 'visitor_gf', 'visitor_ga',\n",
       "       'visitor_sf', 'visitor_sa', 'visitor_pp%', 'visitor_ts', 'visitor_pk%',\n",
       "       'visitor_fow%', 'home_team', 'home_p', 'home_gf', 'home_ga', 'home_sf',\n",
       "       'home_sa', 'home_pp%', 'home_ts', 'home_pk%', 'home_fow%', 'home_goals',\n",
       "       'visitor_goals', 'extra_time', 'game_date', 'home_points',\n",
       "       'visitor_points', 'h_wins', 'visitor_days_rest', 'home_days_rest',\n",
       "       'visitor_last_5', 'home_last_5'],\n",
       "      dtype='object')"
      ]
     },
     "execution_count": 106,
     "metadata": {},
     "output_type": "execute_result"
    }
   ],
   "source": [
    "df.columns"
   ]
  },
  {
   "cell_type": "markdown",
   "metadata": {},
   "source": [
    "# Remove rest of non relevant columns"
   ]
  },
  {
   "cell_type": "markdown",
   "metadata": {},
   "source": [
    "#### Feature Columns"
   ]
  },
  {
   "cell_type": "code",
   "execution_count": 107,
   "metadata": {},
   "outputs": [],
   "source": [
    "X = pd.DataFrame()\n",
    "X[\"gf_r\"] = df[\"home_gf\"] / df[\"visitor_gf\"]\n",
    "X[\"ga_r\"] = df[\"home_ga\"] / df[\"visitor_ga\"]\n",
    "X[\"pp_r\"] = df[\"home_pp%\"] / df[\"visitor_pp%\"]\n",
    "X[\"pk_r\"] = df[\"home_pk%\"] / df[\"visitor_pk%\"]\n",
    "X[\"shot_per_r\"] = (df[\"home_gf\"] / df[\"home_sf\"]) / (df[\"visitor_gf\"] / df[\"visitor_sf\"])\n",
    "X[\"save_per_r\"] = (df[\"home_ga\"] / df[\"home_sa\"]) / (df[\"visitor_ga\"] / df[\"visitor_sa\"])\n",
    "X[\"streak_r\"] = df[\"home_last_5\"] / df[\"visitor_last_5\"]\n",
    "X[\"rest_r\"] = df[\"home_days_rest\"] / df[\"visitor_days_rest\"]\n",
    "X[\"last_pts_r\"] = df[\"home_points\"] / df[\"visitor_points\"]\n",
    "X = X.fillna(0)\n",
    "X = X.replace([np.inf, -np.inf], 10)"
   ]
  },
  {
   "cell_type": "markdown",
   "metadata": {},
   "source": [
    "#### Target Column"
   ]
  },
  {
   "cell_type": "code",
   "execution_count": 108,
   "metadata": {},
   "outputs": [],
   "source": [
    "y = pd.DataFrame()\n",
    "y[\"h_wins\"] = df[\"h_wins\"]"
   ]
  },
  {
   "cell_type": "markdown",
   "metadata": {},
   "source": [
    "# Modelling"
   ]
  },
  {
   "cell_type": "code",
   "execution_count": 109,
   "metadata": {},
   "outputs": [],
   "source": [
    "rfc = RandomForestClassifier(\n",
    "            n_estimators=20,\n",
    "            criterion=\"gini\",\n",
    "            max_features=None, # Use all features to make the cut\n",
    "        )"
   ]
  },
  {
   "cell_type": "code",
   "execution_count": 110,
   "metadata": {},
   "outputs": [
    {
     "data": {
      "text/plain": [
       "RandomForestClassifier(bootstrap=True, class_weight=None, criterion='gini',\n",
       "            max_depth=None, max_features=None, max_leaf_nodes=None,\n",
       "            min_impurity_decrease=0.0, min_impurity_split=None,\n",
       "            min_samples_leaf=1, min_samples_split=2,\n",
       "            min_weight_fraction_leaf=0.0, n_estimators=20, n_jobs=1,\n",
       "            oob_score=False, random_state=None, verbose=0,\n",
       "            warm_start=False)"
      ]
     },
     "execution_count": 110,
     "metadata": {},
     "output_type": "execute_result"
    }
   ],
   "source": [
    "model = rfc.fit(X, y[\"h_wins\"])\n",
    "model"
   ]
  },
  {
   "cell_type": "code",
   "execution_count": 111,
   "metadata": {},
   "outputs": [
    {
     "data": {
      "text/plain": [
       "array([0.1148123 , 0.12617947, 0.12236806, 0.11426122, 0.11302944,\n",
       "       0.10764074, 0.10434235, 0.06053038, 0.13683603])"
      ]
     },
     "execution_count": 111,
     "metadata": {},
     "output_type": "execute_result"
    }
   ],
   "source": [
    "rfc.feature_importances_"
   ]
  },
  {
   "cell_type": "code",
   "execution_count": 112,
   "metadata": {},
   "outputs": [
    {
     "data": {
      "text/plain": [
       "{'fit_time': array([0.1057632 , 0.0873158 , 0.08587909, 0.08717322, 0.08448219]),\n",
       " 'score_time': array([0.00270581, 0.00200725, 0.00206304, 0.00198197, 0.0025301 ]),\n",
       " 'test_score': array([0.59192825, 0.52017937, 0.52702703, 0.54751131, 0.53846154])}"
      ]
     },
     "execution_count": 112,
     "metadata": {},
     "output_type": "execute_result"
    }
   ],
   "source": [
    "v_results = cross_validate(model, X, y[\"h_wins\"], return_train_score=False, cv=5)\n",
    "v_results"
   ]
  },
  {
   "cell_type": "markdown",
   "metadata": {},
   "source": [
    "# Export to DOT file to view tree"
   ]
  },
  {
   "cell_type": "code",
   "execution_count": 122,
   "metadata": {},
   "outputs": [],
   "source": [
    "tree_1 = rfc.estimators_[0]\n",
    "tree.export_graphviz(tree_1,out_file='tree.dot') "
   ]
  }
 ],
 "metadata": {
  "kernelspec": {
   "display_name": "Python 3",
   "language": "python",
   "name": "python3"
  },
  "language_info": {
   "codemirror_mode": {
    "name": "ipython",
    "version": 3
   },
   "file_extension": ".py",
   "mimetype": "text/x-python",
   "name": "python",
   "nbconvert_exporter": "python",
   "pygments_lexer": "ipython3",
   "version": "3.6.5"
  }
 },
 "nbformat": 4,
 "nbformat_minor": 2
}
