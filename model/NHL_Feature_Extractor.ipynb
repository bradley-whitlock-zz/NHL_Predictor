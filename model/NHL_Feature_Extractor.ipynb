{
 "cells": [
  {
   "cell_type": "markdown",
   "metadata": {},
   "source": [
    "# NHL Game Predictor\n",
    "* How it works:\n",
    "    * This will create the model based on the season of data\n",
    "    * This will not make the estimates for a games in a season"
   ]
  },
  {
   "cell_type": "code",
   "execution_count": 2,
   "metadata": {},
   "outputs": [
    {
     "ename": "ModuleNotFoundError",
     "evalue": "No module named 'numpy'",
     "output_type": "error",
     "traceback": [
      "\u001b[0;31m---------------------------------------------------------------------------\u001b[0m",
      "\u001b[0;31mModuleNotFoundError\u001b[0m                       Traceback (most recent call last)",
      "\u001b[0;32m<ipython-input-2-3e287645017e>\u001b[0m in \u001b[0;36m<module>\u001b[0;34m\u001b[0m\n\u001b[1;32m      1\u001b[0m \u001b[0;31m# import pandas as pd\u001b[0m\u001b[0;34m\u001b[0m\u001b[0;34m\u001b[0m\u001b[0;34m\u001b[0m\u001b[0m\n\u001b[0;32m----> 2\u001b[0;31m \u001b[0;32mimport\u001b[0m \u001b[0mnumpy\u001b[0m \u001b[0;32mas\u001b[0m \u001b[0mnp\u001b[0m\u001b[0;34m\u001b[0m\u001b[0;34m\u001b[0m\u001b[0m\n\u001b[0m\u001b[1;32m      3\u001b[0m \u001b[0;32mimport\u001b[0m \u001b[0mcsv\u001b[0m\u001b[0;34m\u001b[0m\u001b[0;34m\u001b[0m\u001b[0m\n\u001b[1;32m      4\u001b[0m \u001b[0;32mimport\u001b[0m \u001b[0mos\u001b[0m\u001b[0;34m\u001b[0m\u001b[0;34m\u001b[0m\u001b[0m\n\u001b[1;32m      5\u001b[0m \u001b[0;32mfrom\u001b[0m \u001b[0mpathlib\u001b[0m \u001b[0;32mimport\u001b[0m \u001b[0mPath\u001b[0m\u001b[0;34m\u001b[0m\u001b[0;34m\u001b[0m\u001b[0m\n",
      "\u001b[0;31mModuleNotFoundError\u001b[0m: No module named 'numpy'"
     ]
    }
   ],
   "source": [
    "# import pandas as pd\n",
    "import numpy as np\n",
    "import csv\n",
    "import os\n",
    "from pathlib import Path\n",
    "import glob\n",
    "from datetime import datetime\n",
    "import matplotlib as plt\n",
    "\n",
    "from sklearn.ensemble import RandomForestClassifier\n",
    "from sklearn.model_selection import cross_validate, train_test_split, RandomizedSearchCV\n",
    "from sklearn import tree\n",
    "from sklearn.metrics import roc_auc_score\n"
   ]
  },
  {
   "cell_type": "markdown",
   "metadata": {},
   "source": [
    "### Load files from data/games/*.csv directory\n",
    "* The game_data is retrieved first for all the game data of the season\n",
    "* Using game_data, the feature_data is populated which contains more scraped data from nhl.com"
   ]
  },
  {
   "cell_type": "markdown",
   "metadata": {},
   "source": [
    "## Load the feature data"
   ]
  },
  {
   "cell_type": "code",
   "execution_count": 3,
   "metadata": {},
   "outputs": [
    {
     "data": {
      "text/plain": [
       "['/Users/bwhitlock/repos/NHL_Predictor/data/games/feature_2018.csv',\n",
       " '/Users/bwhitlock/repos/NHL_Predictor/data/games/feature_2016.csv',\n",
       " '/Users/bwhitlock/repos/NHL_Predictor/data/games/feature_2017.csv']"
      ]
     },
     "execution_count": 3,
     "metadata": {},
     "output_type": "execute_result"
    }
   ],
   "source": [
    "predictor_path = os.getcwd()\n",
    "data_path = predictor_path.replace(\"model\", \"data/games/\")\n",
    "data_files = glob.glob(os.path.join(data_path,\"feature_*.csv\"))\n",
    "data_files"
   ]
  },
  {
   "cell_type": "code",
   "execution_count": 4,
   "metadata": {},
   "outputs": [
    {
     "name": "stdout",
     "output_type": "stream",
     "text": [
      "Data for 3732 games.\n"
     ]
    },
    {
     "data": {
      "text/html": [
       "<div>\n",
       "<style scoped>\n",
       "    .dataframe tbody tr th:only-of-type {\n",
       "        vertical-align: middle;\n",
       "    }\n",
       "\n",
       "    .dataframe tbody tr th {\n",
       "        vertical-align: top;\n",
       "    }\n",
       "\n",
       "    .dataframe thead th {\n",
       "        text-align: right;\n",
       "    }\n",
       "</style>\n",
       "<table border=\"1\" class=\"dataframe\">\n",
       "  <thead>\n",
       "    <tr style=\"text-align: right;\">\n",
       "      <th></th>\n",
       "      <th>game_id</th>\n",
       "      <th>visitor_team</th>\n",
       "      <th>visitor_gp</th>\n",
       "      <th>visitor_w</th>\n",
       "      <th>visitor_l</th>\n",
       "      <th>visitor_t</th>\n",
       "      <th>visitor_ot</th>\n",
       "      <th>visitor_p</th>\n",
       "      <th>visitor_gf</th>\n",
       "      <th>visitor_ga</th>\n",
       "      <th>...</th>\n",
       "      <th>home_ts</th>\n",
       "      <th>home_ppga</th>\n",
       "      <th>home_pk%</th>\n",
       "      <th>home_fow</th>\n",
       "      <th>home_fol</th>\n",
       "      <th>home_fow%</th>\n",
       "      <th>home_goals</th>\n",
       "      <th>visitor_goals</th>\n",
       "      <th>extra_time</th>\n",
       "      <th>game_date</th>\n",
       "    </tr>\n",
       "  </thead>\n",
       "  <tbody>\n",
       "    <tr>\n",
       "      <th>0</th>\n",
       "      <td>0</td>\n",
       "      <td>Calgary Flames</td>\n",
       "      <td>0</td>\n",
       "      <td>0</td>\n",
       "      <td>0</td>\n",
       "      <td>0</td>\n",
       "      <td>0</td>\n",
       "      <td>0</td>\n",
       "      <td>0</td>\n",
       "      <td>0</td>\n",
       "      <td>...</td>\n",
       "      <td>0</td>\n",
       "      <td>0</td>\n",
       "      <td>0.0</td>\n",
       "      <td>0</td>\n",
       "      <td>0</td>\n",
       "      <td>0.0</td>\n",
       "      <td>0</td>\n",
       "      <td>3</td>\n",
       "      <td>NaN</td>\n",
       "      <td>2017-10-04</td>\n",
       "    </tr>\n",
       "    <tr>\n",
       "      <th>1</th>\n",
       "      <td>1</td>\n",
       "      <td>St. Louis Blues</td>\n",
       "      <td>0</td>\n",
       "      <td>0</td>\n",
       "      <td>0</td>\n",
       "      <td>0</td>\n",
       "      <td>0</td>\n",
       "      <td>0</td>\n",
       "      <td>0</td>\n",
       "      <td>0</td>\n",
       "      <td>...</td>\n",
       "      <td>0</td>\n",
       "      <td>0</td>\n",
       "      <td>0.0</td>\n",
       "      <td>0</td>\n",
       "      <td>0</td>\n",
       "      <td>0.0</td>\n",
       "      <td>5</td>\n",
       "      <td>4</td>\n",
       "      <td>OT</td>\n",
       "      <td>2017-10-04</td>\n",
       "    </tr>\n",
       "    <tr>\n",
       "      <th>2</th>\n",
       "      <td>2</td>\n",
       "      <td>Philadelphia Flyers</td>\n",
       "      <td>0</td>\n",
       "      <td>0</td>\n",
       "      <td>0</td>\n",
       "      <td>0</td>\n",
       "      <td>0</td>\n",
       "      <td>0</td>\n",
       "      <td>0</td>\n",
       "      <td>0</td>\n",
       "      <td>...</td>\n",
       "      <td>0</td>\n",
       "      <td>0</td>\n",
       "      <td>0.0</td>\n",
       "      <td>0</td>\n",
       "      <td>0</td>\n",
       "      <td>0.0</td>\n",
       "      <td>5</td>\n",
       "      <td>3</td>\n",
       "      <td>NaN</td>\n",
       "      <td>2017-10-04</td>\n",
       "    </tr>\n",
       "    <tr>\n",
       "      <th>3</th>\n",
       "      <td>3</td>\n",
       "      <td>Toronto Maple Leafs</td>\n",
       "      <td>0</td>\n",
       "      <td>0</td>\n",
       "      <td>0</td>\n",
       "      <td>0</td>\n",
       "      <td>0</td>\n",
       "      <td>0</td>\n",
       "      <td>0</td>\n",
       "      <td>0</td>\n",
       "      <td>...</td>\n",
       "      <td>0</td>\n",
       "      <td>0</td>\n",
       "      <td>0.0</td>\n",
       "      <td>0</td>\n",
       "      <td>0</td>\n",
       "      <td>0.0</td>\n",
       "      <td>7</td>\n",
       "      <td>2</td>\n",
       "      <td>NaN</td>\n",
       "      <td>2017-10-04</td>\n",
       "    </tr>\n",
       "    <tr>\n",
       "      <th>4</th>\n",
       "      <td>4</td>\n",
       "      <td>Arizona Coyotes</td>\n",
       "      <td>0</td>\n",
       "      <td>0</td>\n",
       "      <td>0</td>\n",
       "      <td>0</td>\n",
       "      <td>0</td>\n",
       "      <td>0</td>\n",
       "      <td>0</td>\n",
       "      <td>0</td>\n",
       "      <td>...</td>\n",
       "      <td>0</td>\n",
       "      <td>0</td>\n",
       "      <td>0.0</td>\n",
       "      <td>0</td>\n",
       "      <td>0</td>\n",
       "      <td>0.0</td>\n",
       "      <td>4</td>\n",
       "      <td>5</td>\n",
       "      <td>NaN</td>\n",
       "      <td>2017-10-05</td>\n",
       "    </tr>\n",
       "  </tbody>\n",
       "</table>\n",
       "<p>5 rows × 49 columns</p>\n",
       "</div>"
      ],
      "text/plain": [
       "   game_id         visitor_team  visitor_gp  visitor_w  visitor_l  visitor_t  \\\n",
       "0        0       Calgary Flames           0          0          0          0   \n",
       "1        1      St. Louis Blues           0          0          0          0   \n",
       "2        2  Philadelphia Flyers           0          0          0          0   \n",
       "3        3  Toronto Maple Leafs           0          0          0          0   \n",
       "4        4      Arizona Coyotes           0          0          0          0   \n",
       "\n",
       "   visitor_ot  visitor_p  visitor_gf  visitor_ga     ...      home_ts  \\\n",
       "0           0          0           0           0     ...            0   \n",
       "1           0          0           0           0     ...            0   \n",
       "2           0          0           0           0     ...            0   \n",
       "3           0          0           0           0     ...            0   \n",
       "4           0          0           0           0     ...            0   \n",
       "\n",
       "   home_ppga  home_pk%  home_fow  home_fol  home_fow%  home_goals  \\\n",
       "0          0       0.0         0         0        0.0           0   \n",
       "1          0       0.0         0         0        0.0           5   \n",
       "2          0       0.0         0         0        0.0           5   \n",
       "3          0       0.0         0         0        0.0           7   \n",
       "4          0       0.0         0         0        0.0           4   \n",
       "\n",
       "   visitor_goals  extra_time   game_date  \n",
       "0              3         NaN  2017-10-04  \n",
       "1              4          OT  2017-10-04  \n",
       "2              3         NaN  2017-10-04  \n",
       "3              2         NaN  2017-10-04  \n",
       "4              5         NaN  2017-10-05  \n",
       "\n",
       "[5 rows x 49 columns]"
      ]
     },
     "execution_count": 4,
     "metadata": {},
     "output_type": "execute_result"
    }
   ],
   "source": [
    "seasons = []\n",
    "for season_file in data_files:\n",
    "    data = pd.read_csv(season_file, header=0)\n",
    "    seasons.append(data)\n",
    "df = pd.concat(seasons)\n",
    "\n",
    "print (\"Data for {} games.\".format(df.shape[0]))\n",
    "df.head()"
   ]
  },
  {
   "cell_type": "markdown",
   "metadata": {},
   "source": [
    "# Load the points data"
   ]
  },
  {
   "cell_type": "code",
   "execution_count": 5,
   "metadata": {},
   "outputs": [
    {
     "name": "stdout",
     "output_type": "stream",
     "text": [
      "['/Users/bwhitlock/repos/NHL_Predictor/data/points/2018.csv', '/Users/bwhitlock/repos/NHL_Predictor/data/points/2016.csv', '/Users/bwhitlock/repos/NHL_Predictor/data/points/2017.csv']\n",
      "Data for 91 games.\n"
     ]
    },
    {
     "data": {
      "text/html": [
       "<div>\n",
       "<style scoped>\n",
       "    .dataframe tbody tr th:only-of-type {\n",
       "        vertical-align: middle;\n",
       "    }\n",
       "\n",
       "    .dataframe tbody tr th {\n",
       "        vertical-align: top;\n",
       "    }\n",
       "\n",
       "    .dataframe thead th {\n",
       "        text-align: right;\n",
       "    }\n",
       "</style>\n",
       "<table border=\"1\" class=\"dataframe\">\n",
       "  <thead>\n",
       "    <tr style=\"text-align: right;\">\n",
       "      <th></th>\n",
       "      <th>team_name</th>\n",
       "      <th>year</th>\n",
       "      <th>points</th>\n",
       "    </tr>\n",
       "  </thead>\n",
       "  <tbody>\n",
       "    <tr>\n",
       "      <th>0</th>\n",
       "      <td>Nashville Predators</td>\n",
       "      <td>2018</td>\n",
       "      <td>117</td>\n",
       "    </tr>\n",
       "    <tr>\n",
       "      <th>1</th>\n",
       "      <td>Winnipeg Jets</td>\n",
       "      <td>2018</td>\n",
       "      <td>114</td>\n",
       "    </tr>\n",
       "    <tr>\n",
       "      <th>2</th>\n",
       "      <td>Tampa Bay Lightning</td>\n",
       "      <td>2018</td>\n",
       "      <td>113</td>\n",
       "    </tr>\n",
       "    <tr>\n",
       "      <th>3</th>\n",
       "      <td>Boston Bruins</td>\n",
       "      <td>2018</td>\n",
       "      <td>112</td>\n",
       "    </tr>\n",
       "    <tr>\n",
       "      <th>4</th>\n",
       "      <td>Vegas Golden Knights</td>\n",
       "      <td>2018</td>\n",
       "      <td>109</td>\n",
       "    </tr>\n",
       "  </tbody>\n",
       "</table>\n",
       "</div>"
      ],
      "text/plain": [
       "              team_name  year  points\n",
       "0   Nashville Predators  2018     117\n",
       "1         Winnipeg Jets  2018     114\n",
       "2   Tampa Bay Lightning  2018     113\n",
       "3         Boston Bruins  2018     112\n",
       "4  Vegas Golden Knights  2018     109"
      ]
     },
     "execution_count": 5,
     "metadata": {},
     "output_type": "execute_result"
    }
   ],
   "source": [
    "predictor_path = os.getcwd()\n",
    "data_path = predictor_path.replace(\"model\", \"data/points/\")\n",
    "points_files = glob.glob(os.path.join(data_path,\"*.csv\"))\n",
    "\n",
    "print (points_files)\n",
    "points = []\n",
    "for file in points_files:\n",
    "    data = pd.read_csv(file, header=0)\n",
    "    points.append(data)\n",
    "points_df = pd.concat(points)\n",
    "\n",
    "print (\"Data for {} games.\".format(points_df.shape[0]))\n",
    "points_df.head()"
   ]
  },
  {
   "cell_type": "markdown",
   "metadata": {},
   "source": [
    "# Combining Points and Game Data\n",
    "* Ex: season 2017 contains data for the 16-17 season\n",
    "\n",
    "## TODO: Account for Vegas"
   ]
  },
  {
   "cell_type": "code",
   "execution_count": 6,
   "metadata": {},
   "outputs": [],
   "source": [
    "frames = []\n",
    "\n",
    "for season in [2016, 2017, 2018]: \n",
    "    start_date = str(season-1) + \"-07-01\"\n",
    "    end_date = str(season) + \"-07-01\"\n",
    "    t = df[(df[\"game_date\"] > start_date) & (df[\"game_date\"] < end_date)]\n",
    "    \n",
    "    yearly_points = points_df[points_df[\"year\"] == season]\n",
    "    \n",
    "    # home_points\n",
    "    t = pd.merge(t, yearly_points, left_on='home_team', right_on='team_name')\n",
    "    t = t.drop(columns=[\"team_name\", \"year\"])\n",
    "    t = t.rename(columns={\"points\": \"home_points\"})\n",
    "\n",
    "    # visitor_points\n",
    "    t = pd.merge(t, yearly_points, left_on = 'visitor_team', right_on = 'team_name')\n",
    "    t = t.drop(columns=[\"team_name\", \"year\"])\n",
    "    t = t.rename(columns={\"points\": \"visitor_points\"})\n",
    "    frames.append(t)\n",
    "    \n",
    "df = pd.concat(frames)\n"
   ]
  },
  {
   "cell_type": "markdown",
   "metadata": {},
   "source": [
    "# List of possible features scraped from NHL.com"
   ]
  },
  {
   "cell_type": "code",
   "execution_count": 7,
   "metadata": {},
   "outputs": [
    {
     "data": {
      "text/plain": [
       "Index(['game_id', 'visitor_team', 'visitor_gp', 'visitor_w', 'visitor_l',\n",
       "       'visitor_t', 'visitor_ot', 'visitor_p', 'visitor_gf', 'visitor_ga',\n",
       "       'visitor_s/o win', 'visitor_s/o loss', 'visitor_sf', 'visitor_sa',\n",
       "       'visitor_ppg', 'visitor_pp opp', 'visitor_pp%', 'visitor_ts',\n",
       "       'visitor_ppga', 'visitor_pk%', 'visitor_fow', 'visitor_fol',\n",
       "       'visitor_fow%', 'home_team', 'home_gp', 'home_w', 'home_l', 'home_t',\n",
       "       'home_ot', 'home_p', 'home_gf', 'home_ga', 'home_s/o win',\n",
       "       'home_s/o loss', 'home_sf', 'home_sa', 'home_ppg', 'home_pp opp',\n",
       "       'home_pp%', 'home_ts', 'home_ppga', 'home_pk%', 'home_fow', 'home_fol',\n",
       "       'home_fow%', 'home_goals', 'visitor_goals', 'extra_time', 'game_date',\n",
       "       'home_points', 'visitor_points'],\n",
       "      dtype='object')"
      ]
     },
     "execution_count": 7,
     "metadata": {},
     "output_type": "execute_result"
    }
   ],
   "source": [
    "df.columns"
   ]
  },
  {
   "cell_type": "markdown",
   "metadata": {},
   "source": [
    "# Define the Target Variable"
   ]
  },
  {
   "cell_type": "code",
   "execution_count": 8,
   "metadata": {},
   "outputs": [
    {
     "data": {
      "text/html": [
       "<div>\n",
       "<style scoped>\n",
       "    .dataframe tbody tr th:only-of-type {\n",
       "        vertical-align: middle;\n",
       "    }\n",
       "\n",
       "    .dataframe tbody tr th {\n",
       "        vertical-align: top;\n",
       "    }\n",
       "\n",
       "    .dataframe thead th {\n",
       "        text-align: right;\n",
       "    }\n",
       "</style>\n",
       "<table border=\"1\" class=\"dataframe\">\n",
       "  <thead>\n",
       "    <tr style=\"text-align: right;\">\n",
       "      <th></th>\n",
       "      <th>home_goals</th>\n",
       "      <th>visitor_goals</th>\n",
       "      <th>h_wins</th>\n",
       "    </tr>\n",
       "  </thead>\n",
       "  <tbody>\n",
       "    <tr>\n",
       "      <th>0</th>\n",
       "      <td>5</td>\n",
       "      <td>1</td>\n",
       "      <td>True</td>\n",
       "    </tr>\n",
       "    <tr>\n",
       "      <th>1</th>\n",
       "      <td>2</td>\n",
       "      <td>5</td>\n",
       "      <td>False</td>\n",
       "    </tr>\n",
       "    <tr>\n",
       "      <th>2</th>\n",
       "      <td>3</td>\n",
       "      <td>7</td>\n",
       "      <td>False</td>\n",
       "    </tr>\n",
       "    <tr>\n",
       "      <th>3</th>\n",
       "      <td>0</td>\n",
       "      <td>4</td>\n",
       "      <td>False</td>\n",
       "    </tr>\n",
       "    <tr>\n",
       "      <th>4</th>\n",
       "      <td>3</td>\n",
       "      <td>0</td>\n",
       "      <td>True</td>\n",
       "    </tr>\n",
       "  </tbody>\n",
       "</table>\n",
       "</div>"
      ],
      "text/plain": [
       "   home_goals  visitor_goals  h_wins\n",
       "0           5              1    True\n",
       "1           2              5   False\n",
       "2           3              7   False\n",
       "3           0              4   False\n",
       "4           3              0    True"
      ]
     },
     "execution_count": 8,
     "metadata": {},
     "output_type": "execute_result"
    }
   ],
   "source": [
    "df[\"h_wins\"] = df[\"home_goals\"] > df[\"visitor_goals\"]\n",
    "df[[\"home_goals\", \"visitor_goals\", \"h_wins\"]].head()"
   ]
  },
  {
   "cell_type": "markdown",
   "metadata": {},
   "source": [
    "## Map the extra_time string to boolean"
   ]
  },
  {
   "cell_type": "code",
   "execution_count": 9,
   "metadata": {},
   "outputs": [
    {
     "data": {
      "text/html": [
       "<div>\n",
       "<style scoped>\n",
       "    .dataframe tbody tr th:only-of-type {\n",
       "        vertical-align: middle;\n",
       "    }\n",
       "\n",
       "    .dataframe tbody tr th {\n",
       "        vertical-align: top;\n",
       "    }\n",
       "\n",
       "    .dataframe thead th {\n",
       "        text-align: right;\n",
       "    }\n",
       "</style>\n",
       "<table border=\"1\" class=\"dataframe\">\n",
       "  <thead>\n",
       "    <tr style=\"text-align: right;\">\n",
       "      <th></th>\n",
       "      <th>home_goals</th>\n",
       "      <th>visitor_goals</th>\n",
       "      <th>h_wins</th>\n",
       "      <th>extra_time</th>\n",
       "    </tr>\n",
       "  </thead>\n",
       "  <tbody>\n",
       "    <tr>\n",
       "      <th>0</th>\n",
       "      <td>5</td>\n",
       "      <td>1</td>\n",
       "      <td>True</td>\n",
       "      <td>False</td>\n",
       "    </tr>\n",
       "    <tr>\n",
       "      <th>1</th>\n",
       "      <td>2</td>\n",
       "      <td>5</td>\n",
       "      <td>False</td>\n",
       "      <td>False</td>\n",
       "    </tr>\n",
       "    <tr>\n",
       "      <th>2</th>\n",
       "      <td>3</td>\n",
       "      <td>7</td>\n",
       "      <td>False</td>\n",
       "      <td>False</td>\n",
       "    </tr>\n",
       "    <tr>\n",
       "      <th>3</th>\n",
       "      <td>0</td>\n",
       "      <td>4</td>\n",
       "      <td>False</td>\n",
       "      <td>False</td>\n",
       "    </tr>\n",
       "    <tr>\n",
       "      <th>4</th>\n",
       "      <td>3</td>\n",
       "      <td>0</td>\n",
       "      <td>True</td>\n",
       "      <td>False</td>\n",
       "    </tr>\n",
       "  </tbody>\n",
       "</table>\n",
       "</div>"
      ],
      "text/plain": [
       "   home_goals  visitor_goals  h_wins  extra_time\n",
       "0           5              1    True       False\n",
       "1           2              5   False       False\n",
       "2           3              7   False       False\n",
       "3           0              4   False       False\n",
       "4           3              0    True       False"
      ]
     },
     "execution_count": 9,
     "metadata": {},
     "output_type": "execute_result"
    }
   ],
   "source": [
    "df = df.replace({'extra_time': {'SO': True, 'OT': True, np.NaN:False}})\n",
    "df[[\"home_goals\", \"visitor_goals\", \"h_wins\", \"extra_time\"]].head()\n"
   ]
  },
  {
   "cell_type": "markdown",
   "metadata": {},
   "source": [
    "# Remove some of the not relevant columns"
   ]
  },
  {
   "cell_type": "code",
   "execution_count": 10,
   "metadata": {},
   "outputs": [],
   "source": [
    "suffix = [\"gp\", \"w\", \"l\", \"t\", \"ot\", \"s/o win\", \"s/o loss\", \"pp opp\", \"ppg\", \"ppga\", \"fow\", \"fol\"]\n",
    "for prefix in [\"visitor_\", \"home_\"]:\n",
    "    cols = [prefix+x for x in suffix]\n",
    "    df = df.drop(columns=cols)\n"
   ]
  },
  {
   "cell_type": "code",
   "execution_count": 11,
   "metadata": {},
   "outputs": [
    {
     "data": {
      "text/plain": [
       "Index(['game_id', 'visitor_team', 'visitor_p', 'visitor_gf', 'visitor_ga',\n",
       "       'visitor_sf', 'visitor_sa', 'visitor_pp%', 'visitor_ts', 'visitor_pk%',\n",
       "       'visitor_fow%', 'home_team', 'home_p', 'home_gf', 'home_ga', 'home_sf',\n",
       "       'home_sa', 'home_pp%', 'home_ts', 'home_pk%', 'home_fow%', 'home_goals',\n",
       "       'visitor_goals', 'extra_time', 'game_date', 'home_points',\n",
       "       'visitor_points', 'h_wins'],\n",
       "      dtype='object')"
      ]
     },
     "execution_count": 11,
     "metadata": {},
     "output_type": "execute_result"
    }
   ],
   "source": [
    "df.columns"
   ]
  },
  {
   "cell_type": "markdown",
   "metadata": {},
   "source": [
    "## Get the number of days since the last game for Visitor and Home team\n",
    "* This is a way of defining momentum"
   ]
  },
  {
   "cell_type": "code",
   "execution_count": 12,
   "metadata": {},
   "outputs": [
    {
     "data": {
      "text/plain": [
       "Index(['game_id', 'visitor_team', 'visitor_p', 'visitor_gf', 'visitor_ga',\n",
       "       'visitor_sf', 'visitor_sa', 'visitor_pp%', 'visitor_ts', 'visitor_pk%',\n",
       "       'visitor_fow%', 'home_team', 'home_p', 'home_gf', 'home_ga', 'home_sf',\n",
       "       'home_sa', 'home_pp%', 'home_ts', 'home_pk%', 'home_fow%', 'home_goals',\n",
       "       'visitor_goals', 'extra_time', 'game_date', 'home_points',\n",
       "       'visitor_points', 'h_wins'],\n",
       "      dtype='object')"
      ]
     },
     "execution_count": 12,
     "metadata": {},
     "output_type": "execute_result"
    }
   ],
   "source": [
    "df.columns"
   ]
  },
  {
   "cell_type": "code",
   "execution_count": 13,
   "metadata": {
    "scrolled": false
   },
   "outputs": [],
   "source": [
    "def get_num_days(df, game_date, team_name):\n",
    "    df = df[(df[\"game_date\"] < game_date) & ((df[\"home_team\"] == team_name) | \n",
    "                                             (df[\"visitor_team\"] == team_name))][\"game_date\"]\n",
    "    if df.empty:\n",
    "        return 25\n",
    "    else:\n",
    "        d1 = datetime.strptime(game_date, '%Y-%m-%d')\n",
    "        d0 = datetime.strptime(df.max(), '%Y-%m-%d')\n",
    "        delta = d1 - d0\n",
    "        return delta.days\n",
    "    \n",
    "for index, row in df.iterrows():\n",
    "    for team_name in [\"visitor\", \"home\"]:\n",
    "        df.loc[index, team_name+\"_days_rest\"] = get_num_days(df, row[\"game_date\"], row[team_name+\"_team\"])\n"
   ]
  },
  {
   "cell_type": "markdown",
   "metadata": {},
   "source": [
    "# Get the record of the teams last 5 games"
   ]
  },
  {
   "cell_type": "code",
   "execution_count": 14,
   "metadata": {},
   "outputs": [],
   "source": [
    "def get_recent_record(df, row, team_name):\n",
    "    is_home = team_name == \"home\"\n",
    "    team_name = team_name + \"_team\"\n",
    "    \n",
    "    df = df[(df[\"game_date\"] < row[\"game_date\"]) & ((df[\"home_team\"] == row[team_name]) | \n",
    "                                             (df[\"visitor_team\"] == row[team_name]))][[\"h_wins\", \"extra_time\"]]\n",
    "    if df.empty:\n",
    "        return 0\n",
    "    else:\n",
    "        df = df.iloc[-5:]\n",
    "        points = 0\n",
    "        for index, row in df.iterrows():\n",
    "            if is_home and row[\"h_wins\"]:\n",
    "                points += 2\n",
    "            elif is_home and not row[\"h_wins\"] and row[\"extra_time\"]:\n",
    "                points += 1\n",
    "            elif not is_home and not row[\"h_wins\"]:\n",
    "                points += 2\n",
    "            elif not is_home and row[\"h_wins\"] and row[\"extra_time\"]:\n",
    "                points += 1\n",
    "        \n",
    "        return points\n",
    "    \n",
    "for index, row in df.iterrows():\n",
    "    for team_name in [\"visitor\", \"home\"]:\n",
    "        df.loc[index, team_name+\"_last_5\"] = get_recent_record(df, row, team_name)\n"
   ]
  },
  {
   "cell_type": "markdown",
   "metadata": {},
   "source": [
    "## Features\n",
    "### Ratio is Home / Away\n",
    "| Feature | Description |\n",
    "| --- | --- |\n",
    "| gf_r | Goals Ratio |\n",
    "| ga_r | Goals Against Ratio |\n",
    "| pp_r | Power Play Ratio |\n",
    "| pk_r | Penalty Kill Ratio |\n",
    "| shot_per_r | Shooting Percent Ratio |\n",
    "| save_per_r | Save Percent Ratio |\n",
    "| streak_r | Points in Last 5 Ratio |\n",
    "| rest_r | Days Rest Ratio |\n",
    "| last_pts_r | Last Seasons Points Ratio |\n",
    "\n",
    "#### Future Considerations - Player considerations\n",
    "| Feature | Description |\n",
    "| --- | --- |\n",
    "| Injuries | Are there any players injured on each team? |\n",
    "| Star players | Does one team have star players, may be good for early season games | \n",
    "| Depth | Depth of team |\n",
    "| Randomness | Hockey is a game of luck how can we include this in some way |"
   ]
  },
  {
   "cell_type": "code",
   "execution_count": 15,
   "metadata": {},
   "outputs": [
    {
     "data": {
      "text/plain": [
       "Index(['game_id', 'visitor_team', 'visitor_p', 'visitor_gf', 'visitor_ga',\n",
       "       'visitor_sf', 'visitor_sa', 'visitor_pp%', 'visitor_ts', 'visitor_pk%',\n",
       "       'visitor_fow%', 'home_team', 'home_p', 'home_gf', 'home_ga', 'home_sf',\n",
       "       'home_sa', 'home_pp%', 'home_ts', 'home_pk%', 'home_fow%', 'home_goals',\n",
       "       'visitor_goals', 'extra_time', 'game_date', 'home_points',\n",
       "       'visitor_points', 'h_wins', 'visitor_days_rest', 'home_days_rest',\n",
       "       'visitor_last_5', 'home_last_5'],\n",
       "      dtype='object')"
      ]
     },
     "execution_count": 15,
     "metadata": {},
     "output_type": "execute_result"
    }
   ],
   "source": [
    "df.columns"
   ]
  },
  {
   "cell_type": "markdown",
   "metadata": {},
   "source": [
    "#### Feature Columns\n",
    "\n",
    "### What if there was a better way to impute the *NaN* and *inf* values in X? Averages?"
   ]
  },
  {
   "cell_type": "code",
   "execution_count": 64,
   "metadata": {},
   "outputs": [],
   "source": [
    "X = pd.DataFrame()\n",
    "X[\"gf_r\"] = df[\"home_gf\"] / df[\"visitor_gf\"]\n",
    "X[\"ga_r\"] = df[\"home_ga\"] / df[\"visitor_ga\"]\n",
    "X[\"pp_r\"] = df[\"home_pp%\"] / df[\"visitor_pp%\"]\n",
    "X[\"pk_r\"] = df[\"home_pk%\"] / df[\"visitor_pk%\"]\n",
    "X[\"shot_per_r\"] = (df[\"home_gf\"] / df[\"home_sf\"]) / (df[\"visitor_gf\"] / df[\"visitor_sf\"])\n",
    "X[\"save_per_r\"] = (df[\"home_ga\"] / df[\"home_sa\"]) / (df[\"visitor_ga\"] / df[\"visitor_sa\"])\n",
    "X[\"streak_r\"] = df[\"home_last_5\"] / df[\"visitor_last_5\"]\n",
    "#X[\"rest_r\"] = df[\"home_days_rest\"] / df[\"visitor_days_rest\"] # Might not be useful\n",
    "X[\"last_pts_r\"] = df[\"home_points\"] / df[\"visitor_points\"]\n",
    "X[\"curr_pts_r\"] = df[\"home_p\"] / df[\"visitor_p\"]\n",
    "#X = X.fillna(0)\n",
    "#X = X.replace([np.inf, -np.inf], 10)\n",
    "#m = df.loc[df['Crime_Rate'] != np.inf, 'Crime_Rate'].max()"
   ]
  },
  {
   "cell_type": "code",
   "execution_count": 65,
   "metadata": {},
   "outputs": [],
   "source": [
    "# Replace np.inf with largest value in column \n",
    "for col in X.columns:\n",
    "    if np.inf in X[col].unique():\n",
    "        mx = X.loc[X[col] != np.inf, col].max()\n",
    "        X[col].replace(np.inf, mx, inplace=True)"
   ]
  },
  {
   "cell_type": "code",
   "execution_count": 66,
   "metadata": {},
   "outputs": [],
   "source": [
    "# Replace 0/0 with mean of column\n",
    "for col in X.columns:\n",
    "    if X[col].isnull().any():\n",
    "        mean = X[col].mean()\n",
    "        X[col].fillna(mean, inplace=True)"
   ]
  },
  {
   "cell_type": "code",
   "execution_count": 67,
   "metadata": {},
   "outputs": [
    {
     "data": {
      "image/png": "[encoded data removed]",
      "text/plain": [
       "<Figure size 864x864 with 9 Axes>"
      ]
     },
     "metadata": {},
     "output_type": "display_data"
    }
   ],
   "source": [
    "_ = X.hist(\n",
    "        figsize=(12,12), \n",
    "        bins=20\n",
    "    )"
   ]
  },
  {
   "cell_type": "markdown",
   "metadata": {},
   "source": [
    "#### Target Column"
   ]
  },
  {
   "cell_type": "code",
   "execution_count": 68,
   "metadata": {},
   "outputs": [],
   "source": [
    "y = pd.DataFrame()\n",
    "y = df[\"h_wins\"]"
   ]
  },
  {
   "cell_type": "markdown",
   "metadata": {},
   "source": [
    "# Modelling\n",
    "* If we set max_features=None and bootstrap=False then all trees will be the same since the \"randomeness\" is gone"
   ]
  },
  {
   "cell_type": "code",
   "execution_count": 69,
   "metadata": {},
   "outputs": [],
   "source": [
    "rfc = RandomForestClassifier(\n",
    "            n_estimators = 43,\n",
    "            criterion = \"gini\", # This is default\n",
    "            max_features = 0.4, # None: Use all features to make the cut, Float: use percentage\n",
    "            min_samples_leaf = 1,\n",
    "            min_samples_split = 15,\n",
    "            max_depth = 5,\n",
    "            bootstrap = True    # Default is True, true uses approx 2/3 of record in a tree, false uses all\n",
    "        )\n",
    "model = rfc.fit(X, y)\n"
   ]
  },
  {
   "cell_type": "code",
   "execution_count": 70,
   "metadata": {},
   "outputs": [
    {
     "name": "stdout",
     "output_type": "stream",
     "text": [
      "Feature: gf_r        Importance:    7.36\n",
      "Feature: ga_r        Importance:    9.62\n",
      "Feature: pp_r        Importance:    7.53\n",
      "Feature: pk_r        Importance:    6.07\n",
      "Feature: shot_per_r  Importance:    7.45\n",
      "Feature: save_per_r  Importance:    8.06\n",
      "Feature: streak_r    Importance:    3.51\n",
      "Feature: last_pts_r  Importance:   39.47\n",
      "Feature: curr_pts_r  Importance:   10.92\n"
     ]
    },
    {
     "data": {
      "text/plain": [
       "{'fit_time': array([0.15672016, 0.14066505, 0.12691689]),\n",
       " 'score_time': array([0.00609589, 0.00564098, 0.00573421]),\n",
       " 'test_score': array([0.59965636, 0.60017197, 0.61962134])}"
      ]
     },
     "execution_count": 70,
     "metadata": {},
     "output_type": "execute_result"
    }
   ],
   "source": [
    "for i, j in zip(X.columns, rfc.feature_importances_):\n",
    "    print ('Feature: {:10s}  Importance: {:7.2f}'.format(i, j*100))\n",
    "\n",
    "v_results = cross_validate(model, X, y, return_train_score=False, cv=3)\n",
    "v_results"
   ]
  },
  {
   "cell_type": "markdown",
   "metadata": {},
   "source": [
    "# Testing"
   ]
  },
  {
   "cell_type": "code",
   "execution_count": 71,
   "metadata": {},
   "outputs": [
    {
     "name": "stdout",
     "output_type": "stream",
     "text": [
      "ROC Score:  0.630170195923214\n"
     ]
    }
   ],
   "source": [
    "X_train, X_test, Y_train, Y_test = train_test_split(X, y, test_size=0.2)\n",
    "\n",
    "rfc.fit(X_train, Y_train)\n",
    "\n",
    "Y_pred = np.zeros(X_test.shape[0])\n",
    "Y_pred = rfc.predict_proba(X_test)[:, 1]\n",
    "\n",
    "print (\"ROC Score: \", roc_auc_score(Y_test, Y_pred))\n"
   ]
  },
  {
   "cell_type": "markdown",
   "metadata": {},
   "source": [
    "# Hyperparameter Tuning: Random Hyperparameter Grid"
   ]
  },
  {
   "cell_type": "code",
   "execution_count": 322,
   "metadata": {},
   "outputs": [],
   "source": [
    "# Number of trees in random forest\n",
    "n_estimators = [int(x) for x in np.linspace(start = 10, stop = 50, num = 20)]\n",
    "# Number of features to consider at every split\n",
    "max_features = ['auto', 'sqrt', 0.2, 0.3, 0.4, 0.5, 0.6, 0.7]\n",
    "# Maximum number of levels in tree\n",
    "max_depth = [int(x) for x in np.linspace(5, 15, num = 5)]\n",
    "max_depth.append(None)\n",
    "# Minimum number of samples required to split a node\n",
    "min_samples_split = [5, 10, 15, 20]\n",
    "# Minimum number of samples required at each leaf node\n",
    "min_samples_leaf = [1, 2, 4]\n",
    "# Method of selecting samples for training each tree\n",
    "bootstrap = [True, False]\n",
    "\n",
    "# Create the random grid\n",
    "random_grid = {'n_estimators': n_estimators,\n",
    "               'max_features': max_features,\n",
    "               'max_depth': max_depth,\n",
    "               'min_samples_split': min_samples_split,\n",
    "               'min_samples_leaf': min_samples_leaf,\n",
    "               'bootstrap': bootstrap}"
   ]
  },
  {
   "cell_type": "code",
   "execution_count": 323,
   "metadata": {},
   "outputs": [
    {
     "data": {
      "text/plain": [
       "{'n_estimators': 43,\n",
       " 'min_samples_split': 15,\n",
       " 'min_samples_leaf': 1,\n",
       " 'max_features': 0.4,\n",
       " 'max_depth': 5,\n",
       " 'bootstrap': True}"
      ]
     },
     "execution_count": 323,
     "metadata": {},
     "output_type": "execute_result"
    }
   ],
   "source": [
    "# First create the base model to tune\n",
    "rf = RandomForestClassifier()\n",
    "\n",
    "# Random search of parameters, using 3 fold cross validation, \n",
    "# search across 100 different combinations, and use all available cores\n",
    "rf_random = RandomizedSearchCV(\n",
    "                estimator = rf, \n",
    "                param_distributions = random_grid, \n",
    "                n_iter = 100, \n",
    "                cv = 3, \n",
    "                random_state=42, \n",
    "                n_jobs = -1\n",
    "            )\n",
    "\n",
    "# Fit the random search model\n",
    "rf_random.fit(X, y)\n",
    "\n",
    "# Best Parameters\n",
    "rf_random.best_params_"
   ]
  },
  {
   "cell_type": "markdown",
   "metadata": {},
   "source": [
    "# Export to DOT file to view tree"
   ]
  },
  {
   "cell_type": "code",
   "execution_count": 286,
   "metadata": {},
   "outputs": [],
   "source": [
    "tree_1 = rfc.estimators_[2]\n",
    "tree.export_graphviz(\n",
    "        tree_1,\n",
    "        out_file='tree2.dot',\n",
    "        proportion=True\n",
    ") "
   ]
  },
  {
   "cell_type": "code",
   "execution_count": null,
   "metadata": {},
   "outputs": [],
   "source": []
  }
 ],
 "metadata": {
  "kernelspec": {
   "display_name": "Python 3",
   "language": "python",
   "name": "python3"
  },
  "language_info": {
   "codemirror_mode": {
    "name": "ipython",
    "version": 3
   },
   "file_extension": ".py",
   "mimetype": "text/x-python",
   "name": "python",
   "nbconvert_exporter": "python",
   "pygments_lexer": "ipython3",
   "version": "3.7.1"
  }
 },
 "nbformat": 4,
 "nbformat_minor": 2
}
